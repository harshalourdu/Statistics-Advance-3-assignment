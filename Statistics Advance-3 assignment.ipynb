{
 "cells": [
  {
   "cell_type": "markdown",
   "metadata": {},
   "source": [
    "# Q1: What is Estimation Statistics? Explain point estimate and interval estimate.\n",
    "Estimation Statistics involves the process of using sample data to estimate population parameters. There are two types of estimation:\n",
    "\n",
    "Point Estimate: A single value given as an estimate of an unknown population parameter (e.g., the sample mean \n",
    "𝑥\n",
    "ˉ\n",
    "x\n",
    "ˉ\n",
    "  is a point estimate for the population mean \n",
    "𝜇\n",
    "μ).\n",
    "Interval Estimate: An estimate that provides a range of values within which the population parameter is likely to fall, with a specified level of confidence (e.g., a confidence interval)."
   ]
  },
  {
   "cell_type": "code",
   "execution_count": null,
   "metadata": {},
   "outputs": [],
   "source": [
    "# 2. Q2: Write a Python function to estimate the population mean using a sample mean and standard deviation.\n",
    "\n",
    "import math\n",
    "\n",
    "def estimate_population_mean(sample_mean, sample_std_dev, sample_size):\n",
    "    standard_error = sample_std_dev / math.sqrt(sample_size)\n",
    "    return sample_mean, standard_error\n",
    "\n",
    "# Example usage:\n",
    "sample_mean = 50\n",
    "sample_std_dev = 10\n",
    "sample_size = 30\n",
    "mean_estimate, std_error = estimate_population_mean(sample_mean, sample_std_dev, sample_size)\n",
    "print(f\"Estimated Population Mean: {mean_estimate}\")\n",
    "print(f\"Standard Error: {std_error}\")\n"
   ]
  },
  {
   "cell_type": "markdown",
   "metadata": {},
   "source": [
    "# Q3: What is Hypothesis testing? Why is it used? State the importance of Hypothesis testing.\n",
    "Hypothesis Testing is a statistical method used to determine whether there is enough evidence to reject a null hypothesis based on sample data. It is used to test claims or assumptions about a population.\n",
    "\n",
    "Importance: Helps to make decisions based on data and provides a structured approach to testing claims about population parameters.\n",
    "\n",
    "\n",
    "\n",
    "# Q4: Create a hypothesis that states whether the average weight of male college students is greater than the average weight of female college students.\n",
    "\n",
    "Null Hypothesis (H₀): The average weight of male college students is equal to the average weight of female college students.\n",
    "\n",
    "H0 :μ male​ =μ female\n",
    "\n",
    "Alternative Hypothesis (H₁): The average weight of male college students is greater than the average weight of female college students.\n",
    "\n",
    "H1 :μ male​ >μ female"
   ]
  },
  {
   "cell_type": "code",
   "execution_count": null,
   "metadata": {},
   "outputs": [],
   "source": [
    "# Q5: Write a Python script to conduct a hypothesis test on the difference between two population means, given a sample from each population.\n",
    "\n",
    "import scipy.stats as stats\n",
    "\n",
    "def hypothesis_test(mean1, mean2, std1, std2, n1, n2, alpha=0.05):\n",
    "    # Calculate the t-statistic\n",
    "    pooled_std = math.sqrt((std1**2 / n1) + (std2**2 / n2))\n",
    "    t_stat = (mean1 - mean2) / pooled_std\n",
    "    \n",
    "    # Degrees of freedom\n",
    "    df = min(n1 - 1, n2 - 1)\n",
    "    \n",
    "    # Calculate the p-value\n",
    "    p_value = stats.t.sf(abs(t_stat), df)  # one-tailed test\n",
    "    \n",
    "    if p_value < alpha:\n",
    "        return \"Reject the null hypothesis\"\n",
    "    else:\n",
    "        return \"Fail to reject the null hypothesis\"\n",
    "\n",
    "# Example usage\n",
    "mean1, mean2 = 80, 75\n",
    "std1, std2 = 10, 8\n",
    "n1, n2 = 30, 40\n",
    "print(hypothesis_test(mean1, mean2, std1, std2, n1, n2))"
   ]
  },
  {
   "cell_type": "markdown",
   "metadata": {},
   "source": [
    "# Q6: What is a null and alternative hypothesis? Give some examples.\n",
    "Null Hypothesis (H₀): A statement that there is no effect or no difference. It is the hypothesis that is tested.\n",
    "Alternative Hypothesis (H₁): A statement that contradicts the null hypothesis, indicating that there is an effect or a difference.\n",
    "Example:\n",
    "\n",
    "Null Hypothesis (H₀): The mean salary of employees in company A is equal to the mean salary of employees in company B.\n",
    "Alternative Hypothesis (H₁): The mean salary of employees in company A is not equal to the mean salary of employees in company B.\n",
    "\n",
    "\n",
    "# Q7: Write down the steps involved in hypothesis testing.\n",
    "State the hypotheses: Define the null and alternative hypotheses.\n",
    "Select the significance level (α): Typically 0.05 or 0.01.\n",
    "Choose the appropriate test: t-test, z-test, etc.\n",
    "Calculate the test statistic: Based on the sample data.\n",
    "Determine the p-value: This tells you the probability of observing the data if the null hypothesis is true.\n",
    "Make a decision: If p-value < α, reject the null hypothesis; otherwise, fail to reject it.\n",
    "\n",
    "\n",
    "# Q8: Define p-value and explain its significance in hypothesis testing.\n",
    "The p-value is the probability of obtaining a test statistic at least as extreme as the one observed, assuming that the null hypothesis is true. A smaller p-value indicates stronger evidence against the null hypothesis.\n",
    "\n",
    "Significance: A p-value less than the chosen significance level (e.g., 0.05) leads to rejecting the null hypothesis."
   ]
  },
  {
   "cell_type": "code",
   "execution_count": null,
   "metadata": {},
   "outputs": [],
   "source": [
    "# Q9: Generate a Student's t-distribution plot using Python's matplotlib library, with the degrees of freedom parameter set to 10.\n",
    "\n",
    "import matplotlib.pyplot as plt\n",
    "import numpy as np\n",
    "import scipy.stats as stats\n",
    "\n",
    "# Generate data\n",
    "x = np.linspace(-5, 5, 1000)\n",
    "y = stats.t.pdf(x, df=10)\n",
    "\n",
    "# Plot the t-distribution\n",
    "plt.plot(x, y)\n",
    "plt.title(\"Student's t-distribution (df=10)\")\n",
    "plt.xlabel(\"t-value\")\n",
    "plt.ylabel(\"Density\")\n",
    "plt.grid(True)\n",
    "plt.show()\n"
   ]
  },
  {
   "cell_type": "code",
   "execution_count": null,
   "metadata": {},
   "outputs": [],
   "source": [
    "# Q10: Write a Python program to calculate the two-sample t-test for independent samples, given two random samples of equal size and a null hypothesis that the population means are equal.\n",
    "\n",
    "from scipy import stats\n",
    "\n",
    "def two_sample_t_test(sample1, sample2):\n",
    "    t_stat, p_value = stats.ttest_ind(sample1, sample2)\n",
    "    return t_stat, p_value\n",
    "\n",
    "# Example samples\n",
    "sample1 = [85, 78, 92, 88, 91]\n",
    "sample2 = [80, 77, 89, 85, 90]\n",
    "\n",
    "t_stat, p_value = two_sample_t_test(sample1, sample2)\n",
    "print(f\"t-statistic: {t_stat}, p-value: {p_value}\")\n"
   ]
  },
  {
   "cell_type": "markdown",
   "metadata": {},
   "source": [
    "# Q11: What is Student’s t distribution? When to use the t-Distribution?\n",
    "The Student's t-distribution is used when the sample size is small, and the population standard deviation is unknown. It accounts for the extra variability that comes with small samples. The t-distribution is bell-shaped and similar to the normal distribution but with heavier tails."
   ]
  },
  {
   "cell_type": "code",
   "execution_count": null,
   "metadata": {},
   "outputs": [],
   "source": [
    "# Q13: Estimate the population mean revenue with a 95% confidence interval.\n",
    "\n",
    "import scipy.stats as stats\n",
    "import math\n",
    "\n",
    "def confidence_interval(mean, std_dev, sample_size, confidence_level=0.95):\n",
    "    standard_error = std_dev / math.sqrt(sample_size)\n",
    "    z_score = stats.norm.ppf(1 - (1 - confidence_level) / 2)\n",
    "    margin_of_error = z_score * standard_error\n",
    "    return mean - margin_of_error, mean + margin_of_error\n",
    "\n",
    "# Example\n",
    "mean_revenue = 500\n",
    "std_dev_revenue = 50\n",
    "sample_size_revenue = 50\n",
    "lower, upper = confidence_interval(mean_revenue, std_dev_revenue, sample_size_revenue)\n",
    "print(f\"95% Confidence Interval: ({lower}, {upper})\")\n"
   ]
  },
  {
   "cell_type": "code",
   "execution_count": null,
   "metadata": {},
   "outputs": [],
   "source": [
    "# Q14: Test the hypothesis with a significance level of 0.05.\n",
    "\n",
    "import scipy.stats as stats\n",
    "\n",
    "def test_hypothesis(sample_mean, sample_size, sample_std, hypothesized_mean, alpha):\n",
    "    standard_error = sample_std / math.sqrt(sample_size)\n",
    "    t_stat = (sample_mean - hypothesized_mean) / standard_error\n",
    "    df = sample_size - 1\n",
    "    p_value = stats.t.sf(abs(t_stat), df)\n",
    "    \n",
    "    if p_value < alpha:\n",
    "        return \"Reject the null hypothesis\"\n",
    "    else:\n",
    "        return \"Fail to reject the null hypothesis\"\n",
    "\n",
    "# Example\n",
    "sample_mean = 8\n",
    "sample_size = 100\n",
    "sample_std = 3\n",
    "hypothesized_mean = 10\n",
    "alpha = 0.05\n",
    "print(test_hypothesis(sample_mean, sample_size, sample_std, hypothesized_mean, alpha))\n"
   ]
  }
 ],
 "metadata": {
  "language_info": {
   "name": "python"
  }
 },
 "nbformat": 4,
 "nbformat_minor": 2
}
